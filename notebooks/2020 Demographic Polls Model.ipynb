{
 "cells": [
  {
   "cell_type": "code",
   "execution_count": 32,
   "metadata": {
    "collapsed": false
   },
   "outputs": [],
   "source": [
    "import pandas as pd\n",
    "# To fix - some messy slicing of pandas frames\n",
    "pd.set_option('mode.chained_assignment', None)\n",
    "import numpy as np\n",
    "import matplotlib.pyplot as plt\n",
    "from sklearn.preprocessing import StandardScaler\n",
    "import tensorflow as tf\n",
    "\n",
    "from tensorflow.keras.models import Sequential\n",
    "from tensorflow.keras.layers import Dense\n",
    "\n",
    "import joblib"
   ]
  },
  {
   "cell_type": "code",
   "execution_count": 2,
   "metadata": {
    "collapsed": true
   },
   "outputs": [],
   "source": [
    "# Some data source\n",
    "\n",
    "# Demographic data\n",
    "# https://corgis-edu.github.io/corgis/csv/state_demographics/\n",
    "# https://corgis-edu.github.io/corgis/datasets/csv/state_demographics/state_demographics.csv\n",
    "\n",
    "# Poll data\n",
    "# https://projects.fivethirtyeight.com/2020-general-data/presidential_polls_2020.csv'\n",
    "\n",
    "# Electoral college votes\n",
    "# https://raw.githubusercontent.com/chris-taylor/USElection/master/data/electoral-college-votes.csv"
   ]
  },
  {
   "cell_type": "code",
   "execution_count": 3,
   "metadata": {
    "collapsed": false
   },
   "outputs": [],
   "source": [
    "# State demographics as of 2016\n",
    "state_demo=pd.read_csv('https://corgis-edu.github.io/corgis/datasets/csv/state_demographics/state_demographics.csv')\n",
    "\n",
    "# Electoral college votes by state \n",
    "elec_college=pd.read_csv('../data/electoral-college-votes.csv', names=['State_full','State','Votes'])\n",
    "\n",
    "# 2016 Election results by state\n",
    "results_2016_state=pd.read_csv('../data/2016state.csv')\n",
    "\n",
    "# 2012 Election results by state\n",
    "results_2012_state=pd.read_excel('../data/US Presidential Election 2012 By State.xlsx',names=['State', 'Democratic Party', 'Republican Party', 'Libertarian Party',\n",
    "       'Green Party', 'Others', 'Total Votes'])\n",
    "\n",
    "# 538's excellent polling database\n",
    "polls_pres=pd.read_csv('https://projects.fivethirtyeight.com/2020-general-data/presidential_polls_2020.csv')\n"
   ]
  },
  {
   "cell_type": "code",
   "execution_count": 4,
   "metadata": {
    "collapsed": true
   },
   "outputs": [],
   "source": [
    "# Some helper functions\n",
    "\n",
    "# Get the full state name (e.g. 'Florida') from the short state name (e.g. 'FL')\n",
    "def get_long_name_from_short(short_name):\n",
    "    long_name=elec_college[elec_college['State']==short_name]['State_full'].values[0]\n",
    "    return long_name\n",
    "\n",
    "# And the same for long to short\n",
    "def get_short_name_from_long(long_name):\n",
    "    short_name=elec_college[elec_college['State_full']==long_name]['State'].values[0]\n",
    "    return short_name\n",
    "\n",
    "# Get the polls for a given state\n",
    "def get_polls_for_state(state):\n",
    "    dates=[]\n",
    "    weights=[]\n",
    "    biden=[]\n",
    "    trump=[]\n",
    "    \n",
    "    unique_polls=polls_pres[polls_pres['state']==state]['poll_id'].unique()\n",
    "\n",
    "    for p in unique_polls:\n",
    "        sub=polls_pres[polls_pres['poll_id']==p]\n",
    "        \n",
    "        dates.append(sub['startdate'].iloc[0])\n",
    "        weights.append(sub['weight'].iloc[0])\n",
    "        biden.append(sub[sub['candidate_name']=='Joseph R. Biden Jr.']['pct'].iloc[0])\n",
    "        trump.append(sub[sub['candidate_name']=='Donald Trump']['pct'].iloc[0])\n",
    "\n",
    "    subdata=pd.DataFrame({'Date': dates,\n",
    "                          'Weights' : weights,\n",
    "                          'Trump' : trump,\n",
    "                          'Biden' : biden,\n",
    "                          })\n",
    "    subdata['Date']=pd.to_datetime(subdata['Date'])\n",
    "    subdata.index=subdata['Date']\n",
    "    subdata=subdata.drop('Date',axis=1).sort_index()  \n",
    "    return subdata\n",
    "\n",
    "# Get the weighted (by 538) polls for a given state\n",
    "# Ideally we get the last 3 polls but in some cases there are only 2, 1 or none\n",
    "def get_weighted_norm_poll_vote_share(state):\n",
    "    vote_shares=get_polls_for_state(get_long_name_from_short(state))\n",
    "    vote_shares['Biden_norm']=vote_shares['Biden']/(vote_shares['Biden']+vote_shares['Trump'])\n",
    "    vote_shares['Trump_norm']=vote_shares['Trump']/(vote_shares['Biden']+vote_shares['Trump'])\n",
    "    \n",
    "    biden=0\n",
    "    trump=0\n",
    "    \n",
    "    #  Really scrappy handling of available polls - to clean\n",
    "    if len(vote_shares)>2:\n",
    "        last_polls=vote_shares.tail(3)\n",
    "        last_polls_total_weight=last_polls['Weights'].sum()\n",
    "        last_polls['poll_frac']=last_polls['Weights']/last_polls_total_weight\n",
    "        \n",
    "        biden = last_polls.iloc[0]['poll_frac']*last_polls.iloc[0]['Biden_norm'] + last_polls.iloc[1]['poll_frac']*last_polls.iloc[1]['Biden_norm']+last_polls.iloc[2]['poll_frac']*last_polls.iloc[2]['Biden_norm']\n",
    "        trump = last_polls.iloc[0]['poll_frac']*last_polls.iloc[0]['Trump_norm'] + last_polls.iloc[1]['poll_frac']*last_polls.iloc[1]['Trump_norm'] +last_polls.iloc[2]['poll_frac']*last_polls.iloc[2]['Trump_norm']\n",
    "\n",
    "    elif len(vote_shares)>1:\n",
    "        last_polls=vote_shares.tail(2)\n",
    "        last_polls_total_weight=last_polls['Weights'].sum()\n",
    "        last_polls['poll_frac']=last_polls['Weights']/last_polls_total_weight\n",
    "        \n",
    "        biden = last_polls.iloc[0]['poll_frac']*last_polls.iloc[0]['Biden_norm'] + last_polls.iloc[1]['poll_frac']*last_polls.iloc[1]['Biden_norm']\n",
    "        trump = last_polls.iloc[0]['poll_frac']*last_polls.iloc[0]['Trump_norm'] + last_polls.iloc[1]['poll_frac']*last_polls.iloc[1]['Trump_norm'] \n",
    "\n",
    "    else:\n",
    "        last_polls=vote_shares.tail(1)\n",
    "        biden = last_polls.iloc[0]['Biden_norm']\n",
    "        trump = last_polls.iloc[0]['Trump_norm']\n",
    "    \n",
    "    return biden,trump"
   ]
  },
  {
   "cell_type": "code",
   "execution_count": 5,
   "metadata": {
    "collapsed": false
   },
   "outputs": [],
   "source": [
    "# Skip the first row of the 2012 results (metadata)\n",
    "results_2012_state=results_2012_state.iloc[1:]\n",
    "\n",
    "# Calculate the % of dem and rep votes in 2012\n",
    "results_2012_state['dem_pc']=(results_2012_state['Democratic Party']/results_2012_state['Total Votes'])*100\n",
    "results_2012_state['rep_pc']=(results_2012_state['Republican Party']/results_2012_state['Total Votes'])*100"
   ]
  },
  {
   "cell_type": "code",
   "execution_count": 6,
   "metadata": {
    "collapsed": true
   },
   "outputs": [],
   "source": [
    "# Get the dem and rep % vote share for 2012\n",
    "def get_2012_vote_shares(state):\n",
    "    state=get_short_name_from_long(state)\n",
    "    dem=results_2012_state[results_2012_state['State']==state]['dem_pc'].values[0]\n",
    "    rep=results_2012_state[results_2012_state['State']==state]['rep_pc'].values[0]\n",
    "    return dem, rep\n",
    "\n",
    "# Get the dem and rep % vote share for 2016\n",
    "def get_2016_vote_shares(state):\n",
    "    dem=results_2016_state[results_2016_state['State']==state]['percD'].values[0]\n",
    "    rep=results_2016_state[results_2016_state['State']==state]['percR'].values[0]\n",
    "    return dem, rep"
   ]
  },
  {
   "cell_type": "code",
   "execution_count": 7,
   "metadata": {
    "collapsed": false
   },
   "outputs": [
    {
     "data": {
      "text/html": [
       "<div>\n",
       "<style scoped>\n",
       "    .dataframe tbody tr th:only-of-type {\n",
       "        vertical-align: middle;\n",
       "    }\n",
       "\n",
       "    .dataframe tbody tr th {\n",
       "        vertical-align: top;\n",
       "    }\n",
       "\n",
       "    .dataframe thead th {\n",
       "        text-align: right;\n",
       "    }\n",
       "</style>\n",
       "<table border=\"1\" class=\"dataframe\">\n",
       "  <thead>\n",
       "    <tr style=\"text-align: right;\">\n",
       "      <th></th>\n",
       "      <th>State</th>\n",
       "      <th>Education.Bachelor's Degree or Higher</th>\n",
       "      <th>Education.High School or Higher</th>\n",
       "      <th>Miscellaneous.Percent Female</th>\n",
       "    </tr>\n",
       "  </thead>\n",
       "  <tbody>\n",
       "    <tr>\n",
       "      <th>0</th>\n",
       "      <td>United States</td>\n",
       "      <td>28.8</td>\n",
       "      <td>86.0</td>\n",
       "      <td>50.8</td>\n",
       "    </tr>\n",
       "    <tr>\n",
       "      <th>1</th>\n",
       "      <td>Alabama</td>\n",
       "      <td>22.6</td>\n",
       "      <td>83.1</td>\n",
       "      <td>51.5</td>\n",
       "    </tr>\n",
       "    <tr>\n",
       "      <th>2</th>\n",
       "      <td>Alaska</td>\n",
       "      <td>27.5</td>\n",
       "      <td>91.6</td>\n",
       "      <td>47.4</td>\n",
       "    </tr>\n",
       "    <tr>\n",
       "      <th>3</th>\n",
       "      <td>Arizona</td>\n",
       "      <td>26.9</td>\n",
       "      <td>85.7</td>\n",
       "      <td>50.3</td>\n",
       "    </tr>\n",
       "    <tr>\n",
       "      <th>4</th>\n",
       "      <td>Arkansas</td>\n",
       "      <td>20.1</td>\n",
       "      <td>83.7</td>\n",
       "      <td>50.9</td>\n",
       "    </tr>\n",
       "  </tbody>\n",
       "</table>\n",
       "</div>"
      ],
      "text/plain": [
       "           State  Education.Bachelor's Degree or Higher  \\\n",
       "0  United States                                   28.8   \n",
       "1        Alabama                                   22.6   \n",
       "2         Alaska                                   27.5   \n",
       "3        Arizona                                   26.9   \n",
       "4       Arkansas                                   20.1   \n",
       "\n",
       "   Education.High School or Higher  Miscellaneous.Percent Female  \n",
       "0                             86.0                          50.8  \n",
       "1                             83.1                          51.5  \n",
       "2                             91.6                          47.4  \n",
       "3                             85.7                          50.3  \n",
       "4                             83.7                          50.9  "
      ]
     },
     "execution_count": 7,
     "metadata": {},
     "output_type": "execute_result"
    }
   ],
   "source": [
    "# We only want (or need, for now) a subset of the demographic features - these are pretty self explanitory\n",
    "features_to_use=['State',\n",
    "#     'Age.Percent 65 and Older',\n",
    "    'Education.Bachelor\\'s Degree or Higher',\n",
    "    'Education.High School or Higher',\n",
    "#     'Employment.Nonemployer Establishments',\n",
    "#     'Employment.Private Non-farm Employment',\n",
    "#     'Employment.Private Non-farm Establishments',\n",
    "#     'Ethnicities.American Indian and Alaska Native Alone',\n",
    "#     'Ethnicities.Asian Alone', 'Ethnicities.Black Alone',\n",
    "#     'Ethnicities.Hispanic or Latino',\n",
    "#     'Ethnicities.Native Hawaiian and Other Pacific Islander Alone',\n",
    "#     'Ethnicities.Two or More Races', 'Ethnicities.White Alone',\n",
    "#     'Ethnicities.White Alone, not Hispanic or Latino',\n",
    "#     'Housing.Homeownership Rate', 'Housing.Households',\n",
    "#     'Housing.Housing Units', 'Housing.Median Value of Owner-Occupied Units',\n",
    "#     'Housing.Persons per Household',\n",
    "#     'Housing.Units in Multi-Unit Structures',\n",
    "#     'Income.Median Houseold Income', 'Income.Per Capita Income',\n",
    "#     'Income.Persons Below Poverty Level', 'Miscellaneous.Building Permits',\n",
    "#     'Miscellaneous.Foreign Born',\n",
    "    'Miscellaneous.Percent Female', \n",
    "#                  'Miscellaneous.Veterans',\n",
    "]\n",
    "\n",
    "# Filter by the features we want\n",
    "state_demo_use=state_demo[features_to_use]\n",
    "state_demo_use.head()"
   ]
  },
  {
   "cell_type": "code",
   "execution_count": 33,
   "metadata": {
    "collapsed": false
   },
   "outputs": [],
   "source": [
    "# Building our features and targets to train a model to replicate the 2016 results\n",
    "# This will be our baseline - a model that predicts the 2016 result based on demographics and the 2012 result\n",
    "# Features: Demographics, 2012 result\n",
    "# Target: 2016 result\n",
    "\n",
    "states=state_demo['State'].unique()\n",
    "\n",
    "X=[]\n",
    "Y=[]\n",
    "\n",
    "for s in states:\n",
    "#     'United States' isn't relenvat and 'DC' exist in the state list but there isn't demo data for it\n",
    "    if s!='United States':\n",
    "        if s!='District Of Columbia':\n",
    "            demo_inputs=state_demo_use[state_demo_use['State']==s].drop('State',axis=1).values[0].tolist()\n",
    "            dem_2012,rep_2012 = get_2012_vote_shares(s)\n",
    "            demo_inputs.append(dem_2012)\n",
    "            demo_inputs.append(rep_2012)\n",
    "\n",
    "            X.append(demo_inputs)\n",
    "            \n",
    "            dem=results_2016_state[results_2016_state['State']==s]['percD'].values[0]\n",
    "            rep=results_2016_state[results_2016_state['State']==s]['percR'].values[0]\n",
    "            Y.append([dem,rep])\n",
    "\n",
    "X=np.array(X)\n",
    "Y=np.array(Y)\n",
    "\n",
    "# This function is useful later when we want to build features for a given state (rather than all)\n",
    "def get_features_state(s):\n",
    "    demo_inputs=state_demo_use[state_demo_use['State']==s].drop('State',axis=1).values[0].tolist()\n",
    "    dem_2012,rep_2012 = get_2012_vote_shares(s)\n",
    "    demo_inputs.append(dem_2012)\n",
    "    demo_inputs.append(rep_2012)\n",
    "\n",
    "    return np.array(demo_inputs)\n",
    "    "
   ]
  },
  {
   "cell_type": "code",
   "execution_count": 34,
   "metadata": {
    "collapsed": false
   },
   "outputs": [
    {
     "data": {
      "text/plain": [
       "['scaler.save']"
      ]
     },
     "execution_count": 34,
     "metadata": {},
     "output_type": "execute_result"
    }
   ],
   "source": [
    "# Normalise the features\n",
    "scaler = StandardScaler()\n",
    "X=scaler.fit_transform(X)\n",
    "\n",
    "scaler_filename = \"scaler.save\"\n",
    "joblib.dump(scaler, scaler_filename) "
   ]
  },
  {
   "cell_type": "code",
   "execution_count": 10,
   "metadata": {
    "collapsed": false
   },
   "outputs": [
    {
     "name": "stdout",
     "output_type": "stream",
     "text": [
      "X shape:  (50, 5)\n",
      "Y shape:  (50, 2)\n"
     ]
    }
   ],
   "source": [
    "# Check our shapes\n",
    "# We have a TINY dataset - 50 states with 5 features\n",
    "print('X shape: ',X.shape)\n",
    "print('Y shape: ',Y.shape)"
   ]
  },
  {
   "cell_type": "code",
   "execution_count": 11,
   "metadata": {
    "collapsed": false
   },
   "outputs": [],
   "source": [
    "# Create a pretty basic fully connected model\n",
    "model = Sequential()\n",
    "model.add(Dense(16, input_dim=X.shape[1], kernel_initializer='normal', activation='relu'))\n",
    "model.add(Dense(8, kernel_initializer='normal'))\n",
    "model.add(Dense(2, kernel_initializer='normal'))\n",
    "# Compile model\n",
    "model.compile(loss='mean_absolute_error', optimizer='adam')"
   ]
  },
  {
   "cell_type": "code",
   "execution_count": 12,
   "metadata": {
    "collapsed": false
   },
   "outputs": [],
   "source": [
    "# Track the validation accuracy and save the best model\n",
    "checkpoint_path = \"cp.ckpt\"\n",
    "cp_callback = tf.keras.callbacks.ModelCheckpoint(filepath=checkpoint_path,\n",
    "                                                 monitor='val_loss',\n",
    "                                                 save_weights_only=True,\n",
    "                                                 verbose=0)\n"
   ]
  },
  {
   "cell_type": "code",
   "execution_count": 13,
   "metadata": {
    "collapsed": false
   },
   "outputs": [
    {
     "name": "stdout",
     "output_type": "stream",
     "text": [
      "Training Complete\n"
     ]
    }
   ],
   "source": [
    "# Train model\n",
    "# training a tiny dataset this many times is a bit questionable and overfitting is a danger\n",
    "# but hey ho\n",
    "history = model.fit(\n",
    "    X,Y,\n",
    "    epochs=2500,\n",
    "    verbose=0,\n",
    "    validation_split=0.2,\n",
    "    callbacks=[cp_callback])\n",
    "\n",
    "# Load the best weights back\n",
    "model.load_weights(checkpoint_path)\n",
    "\n",
    "print('Training Complete')\n",
    "\n"
   ]
  },
  {
   "cell_type": "code",
   "execution_count": 14,
   "metadata": {
    "collapsed": true
   },
   "outputs": [],
   "source": [
    "# Save the model\n",
    "# model.save('261020_baseline.h5') # saves compiled state\n",
    "model.save('271020_baseline.h5') # saves compiled state"
   ]
  },
  {
   "cell_type": "code",
   "execution_count": 15,
   "metadata": {
    "collapsed": false
   },
   "outputs": [
    {
     "data": {
      "text/plain": [
       "<matplotlib.legend.Legend at 0x7fc14d6d5290>"
      ]
     },
     "execution_count": 15,
     "metadata": {},
     "output_type": "execute_result"
    },
    {
     "data": {
      "image/png": "[encoded data removed]",
      "text/plain": [
       "<Figure size 720x360 with 2 Axes>"
      ]
     },
     "metadata": {
      "needs_background": "light"
     },
     "output_type": "display_data"
    }
   ],
   "source": [
    "# Model seems to flatten out training around 2000 epochs\n",
    "history.history.keys()\n",
    "\n",
    "plt.figure(figsize=(10,5))\n",
    "plt.subplot(1,2,1)\n",
    "plt.plot(history.history['loss'],label='Loss')\n",
    "plt.plot(history.history['val_loss'],label='Val Loss')\n",
    "plt.xlabel('Epoch')\n",
    "plt.ylabel('MAE')\n",
    "plt.legend()\n",
    "\n",
    "plt.subplot(1,2,2)\n",
    "plt.plot(history.history['val_loss'],label='Val Loss')\n",
    "plt.ylim(0.9*np.min(history.history['val_loss']),1.1*np.min(history.history['val_loss']))\n",
    "plt.axhline(y=np.min(history.history['val_loss']),ls='--',c='k',label='Min: '+\n",
    "            str(np.round(np.min(history.history['val_loss']),2)))\n",
    "plt.xlabel('Epoch')\n",
    "plt.ylabel('MAE')\n",
    "plt.legend()"
   ]
  },
  {
   "cell_type": "code",
   "execution_count": 16,
   "metadata": {
    "collapsed": false
   },
   "outputs": [
    {
     "name": "stdout",
     "output_type": "stream",
     "text": [
      "Processing AK\n",
      "\t Republicans win AK\n",
      "Processing Alabama\n",
      "\t Republicans win Alabama\n",
      "Processing Alaska\n",
      "\t Republicans win Alaska\n",
      "Processing Arizona\n",
      "\t Republicans win Arizona\n",
      "Processing Arkansas\n",
      "\t Republicans win Arkansas\n",
      "Processing California\n",
      "\t Democrats win California\n",
      "Processing Colorado\n",
      "\t Democrats win Colorado\n",
      "Processing Connecticut\n",
      "\t Democrats win Connecticut\n",
      "Processing Delaware\n",
      "\t Democrats win Delaware\n",
      "Processing Florida\n",
      "\t Republicans win Florida\n",
      "Processing Georgia\n",
      "\t Republicans win Georgia\n",
      "Processing Hawaii\n",
      "\t Democrats win Hawaii\n",
      "Processing Idaho\n",
      "\t Republicans win Idaho\n",
      "Processing Illinois\n",
      "\t Democrats win Illinois\n",
      "Processing Indiana\n",
      "\t Republicans win Indiana\n",
      "Processing Iowa\n",
      "\t Republicans win Iowa\n",
      "Processing Kansas\n",
      "\t Republicans win Kansas\n",
      "Processing Kentucky\n",
      "\t Republicans win Kentucky\n",
      "Processing Louisiana\n",
      "\t Republicans win Louisiana\n",
      "Processing Maine\n",
      "\t Democrats win Maine\n",
      "Processing Maryland\n",
      "\t Democrats win Maryland\n",
      "Processing Massachusetts\n",
      "\t Democrats win Massachusetts\n",
      "Processing Michigan\n",
      "\t Republicans win Michigan\n",
      "Processing Minnesota\n",
      "\t Democrats win Minnesota\n",
      "Processing Mississippi\n",
      "\t Republicans win Mississippi\n",
      "Processing Missouri\n",
      "\t Republicans win Missouri\n",
      "Processing Montana\n",
      "\t Republicans win Montana\n",
      "Processing Nebraska\n",
      "\t Republicans win Nebraska\n",
      "Processing Nevada\n",
      "\t Democrats win Nevada\n",
      "Processing New Hampshire\n",
      "\t Democrats win New Hampshire\n",
      "Processing New Jersey\n",
      "\t Democrats win New Jersey\n",
      "Processing New Mexico\n",
      "\t Democrats win New Mexico\n",
      "Processing New York\n",
      "\t Democrats win New York\n",
      "Processing North Carolina\n",
      "\t Republicans win North Carolina\n",
      "Processing North Dakota\n",
      "\t Republicans win North Dakota\n",
      "Processing Ohio\n",
      "\t Republicans win Ohio\n",
      "Processing Oklahoma\n",
      "\t Republicans win Oklahoma\n",
      "Processing Oregon\n",
      "\t Democrats win Oregon\n",
      "Processing Pennsylvania\n",
      "\t Republicans win Pennsylvania\n",
      "Processing Rhode Island\n",
      "\t Democrats win Rhode Island\n",
      "Processing South Carolina\n",
      "\t Republicans win South Carolina\n",
      "Processing South Dakota\n",
      "\t Republicans win South Dakota\n",
      "Processing Tennessee\n",
      "\t Republicans win Tennessee\n",
      "Processing Texas\n",
      "\t Republicans win Texas\n",
      "Processing Utah\n",
      "\t Republicans win Utah\n",
      "Processing Vermont\n",
      "\t Democrats win Vermont\n",
      "Processing Virginia\n",
      "\t Democrats win Virginia\n",
      "Processing Washington\n",
      "\t Democrats win Washington\n",
      "Processing West Virginia\n",
      "\t Republicans win West Virginia\n",
      "Processing Wisconsin\n",
      "\t Republicans win Wisconsin\n",
      "Processing Wyoming\n",
      "\t Republicans win Wyoming\n"
     ]
    }
   ],
   "source": [
    "# Now let's calculate the results of the 2016 election using the model\n",
    "rep_state_wins=[]\n",
    "dem_state_wins=[]\n",
    "rep_elec_coll_votes=0\n",
    "dem_elec_coll_votes=0\n",
    "\n",
    "# Hacky Alaska workaround! - For some reason the data seems to be missing Alaska electoral votes\n",
    "print('Processing AK')\n",
    "print('\\t Republicans win AK')\n",
    "rep_state_wins.append('AK')\n",
    "rep_elec_coll_votes += elec_college[elec_college['State']=='AK']['Votes'].values[0]\n",
    "\n",
    "\n",
    "for s in states:\n",
    "    if s!='United States':\n",
    "        if s!='District Of Columbia':\n",
    "            print('Processing '+s)\n",
    "            results=model.predict(scaler.transform(get_features_state(s).reshape(1,-1)))\n",
    "            if results[0][1]>results[0][0]:\n",
    "                rep_state_wins.append(s)\n",
    "                rep_elec_coll_votes += elec_college[elec_college['State']==get_short_name_from_long(s)]['Votes'].values[0]\n",
    "                print('\\t Republicans win '+s)\n",
    "            elif results[0][1] < results[0][0]:\n",
    "                dem_state_wins.append(s)\n",
    "                dem_elec_coll_votes += elec_college[elec_college['State']==get_short_name_from_long(s)]['Votes'].values[0]\n",
    "                print('\\t Democrats win '+s)"
   ]
  },
  {
   "cell_type": "code",
   "execution_count": 17,
   "metadata": {
    "collapsed": false
   },
   "outputs": [
    {
     "name": "stdout",
     "output_type": "stream",
     "text": [
      "Rep Elec College Votes: 308 and Dem Elec College Votes: 230\n",
      "Total: 538\n",
      "Actual results: Rep: 306, Dem: 232\n"
     ]
    }
   ],
   "source": [
    "# Look at the final results:\n",
    "print('Rep Elec College Votes: '+str(rep_elec_coll_votes)+' and Dem Elec College Votes: '+str(dem_elec_coll_votes))\n",
    "print('Total: '+str(rep_elec_coll_votes+dem_elec_coll_votes))\n",
    "\n",
    "# and compare with the actual results\n",
    "# https://en.wikipedia.org/wiki/2016_United_States_presidential_election\n",
    "print('Actual results: Rep: 306, Dem: 232')"
   ]
  },
  {
   "cell_type": "code",
   "execution_count": 18,
   "metadata": {
    "collapsed": false
   },
   "outputs": [
    {
     "data": {
      "text/html": [
       "<div>\n",
       "<style scoped>\n",
       "    .dataframe tbody tr th:only-of-type {\n",
       "        vertical-align: middle;\n",
       "    }\n",
       "\n",
       "    .dataframe tbody tr th {\n",
       "        vertical-align: top;\n",
       "    }\n",
       "\n",
       "    .dataframe thead th {\n",
       "        text-align: right;\n",
       "    }\n",
       "</style>\n",
       "<table border=\"1\" class=\"dataframe\">\n",
       "  <thead>\n",
       "    <tr style=\"text-align: right;\">\n",
       "      <th></th>\n",
       "      <th>Weights</th>\n",
       "      <th>Trump</th>\n",
       "      <th>Biden</th>\n",
       "    </tr>\n",
       "    <tr>\n",
       "      <th>Date</th>\n",
       "      <th></th>\n",
       "      <th></th>\n",
       "      <th></th>\n",
       "    </tr>\n",
       "  </thead>\n",
       "  <tbody>\n",
       "    <tr>\n",
       "      <th>2020-10-21</th>\n",
       "      <td>1.071740</td>\n",
       "      <td>47.40</td>\n",
       "      <td>48.90</td>\n",
       "    </tr>\n",
       "    <tr>\n",
       "      <th>2020-10-23</th>\n",
       "      <td>0.593360</td>\n",
       "      <td>48.50</td>\n",
       "      <td>44.00</td>\n",
       "    </tr>\n",
       "    <tr>\n",
       "      <th>2020-10-24</th>\n",
       "      <td>1.105862</td>\n",
       "      <td>48.13</td>\n",
       "      <td>50.16</td>\n",
       "    </tr>\n",
       "  </tbody>\n",
       "</table>\n",
       "</div>"
      ],
      "text/plain": [
       "             Weights  Trump  Biden\n",
       "Date                              \n",
       "2020-10-21  1.071740  47.40  48.90\n",
       "2020-10-23  0.593360  48.50  44.00\n",
       "2020-10-24  1.105862  48.13  50.16"
      ]
     },
     "execution_count": 18,
     "metadata": {},
     "output_type": "execute_result"
    }
   ],
   "source": [
    "# Let's get some polls for a random state:\n",
    "get_polls_for_state('Florida').tail(3)"
   ]
  },
  {
   "cell_type": "code",
   "execution_count": 19,
   "metadata": {
    "collapsed": false
   },
   "outputs": [
    {
     "name": "stdout",
     "output_type": "stream",
     "text": [
      "Current Poll: Dem: 50.22386191563244  and Rep: 49.77613808436755\n"
     ]
    }
   ],
   "source": [
    "# Let's the get the (538) weighted average poll\n",
    "wa_poll=get_weighted_norm_poll_vote_share(get_short_name_from_long('Georgia'))\n",
    "print('Current Poll: Dem:',wa_poll[0]*100,' and Rep:',wa_poll[1]*100)"
   ]
  },
  {
   "cell_type": "code",
   "execution_count": 20,
   "metadata": {
    "collapsed": false
   },
   "outputs": [],
   "source": [
    "# Now if we want to make predictions for 2020:\n",
    "#  we use the same mode\n",
    "#  we use the same demographics (poor assumption, this will have changed)\n",
    "#  we use the 2016 as the benchmark (where we used 2012 previously)\n",
    "\n",
    "# Get features and POLL outputs for re-tuning the model\n",
    "def make_new_feature_poll_based(state):\n",
    "    demo_inputs=state_demo_use[state_demo_use['State']==s].drop('State',axis=1).values[0].tolist()\n",
    "    dem_2016,rep_2016 = get_2016_vote_shares(s)\n",
    "    demo_inputs.append(dem_2016)\n",
    "    demo_inputs.append(rep_2016)\n",
    "    \n",
    "    Y=[]\n",
    "    polls=get_weighted_norm_poll_vote_share(get_short_name_from_long(state))\n",
    "    dem_poll=100*polls[0]\n",
    "    rep_poll=100*polls[1]\n",
    "    \n",
    "    Y.append(dem_poll)\n",
    "    Y.append(rep_poll)\n",
    "    \n",
    "    return np.array(demo_inputs),np.array(Y)\n",
    "\n",
    "# Get features for 2020 predictions\n",
    "def make_new_feature_2016_based(state):\n",
    "    demo_inputs=state_demo_use[state_demo_use['State']==s].drop('State',axis=1).values[0].tolist()\n",
    "    dem_2016,rep_2016 = get_2016_vote_shares(s)\n",
    "    demo_inputs.append(dem_2016)\n",
    "    demo_inputs.append(rep_2016)\n",
    "\n",
    "    return np.array(demo_inputs)"
   ]
  },
  {
   "cell_type": "code",
   "execution_count": 60,
   "metadata": {
    "collapsed": false
   },
   "outputs": [],
   "source": [
    "# Get a new single instance of features based on polls for a given set of states (initially just one)\n",
    "\n",
    "s='Ohio'\n",
    "\n",
    "X_new=[]\n",
    "Y_new=[]\n",
    "\n",
    "# for s in ['Georgia']:\n",
    "#     print('Making feature for '+s)\n",
    "x,y=make_new_feature_poll_based(s)\n",
    "X_new.append(x)\n",
    "Y_new.append(y)\n",
    "\n",
    "X_new=np.array(X_new)\n",
    "Y_new=np.array(Y_new)\n",
    "# X_new,Y_new=make_new_feature('Florida')\n",
    "# dem_2016,rep_2016 = get_2016_vote_shares('Florida')\n",
    "X_new=scaler.transform(X_new)"
   ]
  },
  {
   "cell_type": "code",
   "execution_count": 61,
   "metadata": {
    "collapsed": false
   },
   "outputs": [],
   "source": [
    "# Make a new model that re-tunes the baseline model\n",
    "# model_florida_261020 = tf.keras.models.load_model('261020_baseline.h5')\n",
    "new_model = tf.keras.models.load_model('271020_baseline.h5')"
   ]
  },
  {
   "cell_type": "code",
   "execution_count": 62,
   "metadata": {
    "collapsed": false
   },
   "outputs": [
    {
     "name": "stdout",
     "output_type": "stream",
     "text": [
      "1/1 [==============================] - 0s 1ms/step - loss: 7.5971\n",
      "Error: 11.98\n",
      "1/1 [==============================] - 0s 1ms/step - loss: 7.5210\n",
      "Error: 11.86\n",
      "1/1 [==============================] - 0s 981us/step - loss: 7.3930\n",
      "Error: 11.69\n",
      "1/1 [==============================] - 0s 1ms/step - loss: 7.2192\n",
      "Error: 11.47\n",
      "1/1 [==============================] - 0s 2ms/step - loss: 7.0047\n",
      "Error: 11.22\n",
      "1/1 [==============================] - 0s 1ms/step - loss: 6.7545\n",
      "Error: 10.92\n",
      "1/1 [==============================] - 0s 9ms/step - loss: 6.4726\n",
      "Error: 10.59\n",
      "1/1 [==============================] - 0s 947us/step - loss: 6.1628\n",
      "Error: 10.24\n",
      "1/1 [==============================] - 0s 3ms/step - loss: 5.8286\n",
      "Error: 9.85\n",
      "1/1 [==============================] - 0s 1ms/step - loss: 5.4729\n",
      "Error: 9.45\n",
      "1/1 [==============================] - 0s 1ms/step - loss: 5.0983\n",
      "Error: 9.02\n",
      "1/1 [==============================] - 0s 994us/step - loss: 4.7072\n",
      "Error: 8.57\n",
      "1/1 [==============================] - 0s 1ms/step - loss: 4.3016\n",
      "Error: 8.11\n",
      "1/1 [==============================] - 0s 1ms/step - loss: 3.8835\n",
      "Error: 7.63\n",
      "1/1 [==============================] - 0s 966us/step - loss: 3.4543\n",
      "Error: 7.14\n",
      "1/1 [==============================] - 0s 984us/step - loss: 3.0155\n",
      "Error: 6.64\n",
      "1/1 [==============================] - 0s 991us/step - loss: 2.5684\n",
      "Error: 6.12\n",
      "1/1 [==============================] - 0s 1ms/step - loss: 2.3369\n",
      "Error: 5.59\n",
      "1/1 [==============================] - 0s 908us/step - loss: 2.1514\n",
      "Error: 4.99\n",
      "1/1 [==============================] - 0s 1ms/step - loss: 1.8657\n",
      "Error: 4.32\n",
      "1/1 [==============================] - 0s 1ms/step - loss: 1.4906\n",
      "Error: 3.59\n",
      "1/1 [==============================] - 0s 981us/step - loss: 1.0356\n",
      "Error: 2.8\n",
      "1/1 [==============================] - 0s 1ms/step - loss: 0.5084\n",
      "Error: 1.96\n",
      "1/1 [==============================] - 0s 993us/step - loss: 0.0842\n",
      "Error: 1.07\n"
     ]
    }
   ],
   "source": [
    "error= np.abs(new_model.predict(scaler.transform(make_new_feature_2016_based(s).reshape(1,-1)))[0][0] - wa_poll[0]*100)\n",
    "\n",
    "# Let's do a maximum of 100 re-trains of the model on the single example\n",
    "for i in range(0,100):\n",
    "    new_model.fit(\n",
    "        X_new,Y_new,\n",
    "        epochs=1,\n",
    "        verbose=1\n",
    "    )\n",
    "    print('Error: '+str(np.round(error,2)))\n",
    "    error= np.abs(new_model.predict(scaler.transform(make_new_feature_2016_based(s).reshape(1,-1)))[0][0] - wa_poll[0]*100)\n",
    "#     We've got the model close enough\n",
    "    if error<0.5:\n",
    "        break"
   ]
  },
  {
   "cell_type": "code",
   "execution_count": 63,
   "metadata": {
    "collapsed": false
   },
   "outputs": [
    {
     "name": "stdout",
     "output_type": "stream",
     "text": [
      "Model Outputs: Dem: 49.82  and Rep: 51.17\n",
      "Current Poll: Dem: 50.22  and Rep: 49.78\n"
     ]
    }
   ],
   "source": [
    "model_results=new_model.predict(scaler.transform(make_new_feature_2016_based(s).reshape(1,-1)))\n",
    "print('Model Outputs: Dem:',np.round(model_results[0][0],2),' and Rep:',np.round(model_results[0][1],2))\n",
    "print('Current Poll: Dem:',np.round(wa_poll[0]*100,2),' and Rep:',np.round(wa_poll[1]*100,2))"
   ]
  },
  {
   "cell_type": "code",
   "execution_count": 64,
   "metadata": {
    "collapsed": false
   },
   "outputs": [
    {
     "name": "stdout",
     "output_type": "stream",
     "text": [
      "Processing AK\n",
      "\t Republicans win AK\n",
      "Processing Alabama\n",
      "\t Republicans win Alabama\n",
      "Processing Alaska\n",
      "\t Republicans win Alaska\n",
      "Processing Arizona\n",
      "\t Democrats win Arizona\n",
      "Processing Arkansas\n",
      "\t Republicans win Arkansas\n",
      "Processing California\n",
      "\t Democrats win California\n",
      "Processing Colorado\n",
      "\t Democrats win Colorado\n",
      "Processing Connecticut\n",
      "\t Democrats win Connecticut\n",
      "Processing Delaware\n",
      "\t Democrats win Delaware\n",
      "Processing Florida\n",
      "\t Democrats win Florida\n",
      "Processing Georgia\n",
      "\t Democrats win Georgia\n",
      "Processing Hawaii\n",
      "\t Democrats win Hawaii\n",
      "Processing Idaho\n",
      "\t Republicans win Idaho\n",
      "Processing Illinois\n",
      "\t Democrats win Illinois\n",
      "Processing Indiana\n",
      "\t Republicans win Indiana\n",
      "Processing Iowa\n",
      "\t Republicans win Iowa\n",
      "Processing Kansas\n",
      "\t Republicans win Kansas\n",
      "Processing Kentucky\n",
      "\t Republicans win Kentucky\n",
      "Processing Louisiana\n",
      "\t Republicans win Louisiana\n",
      "Processing Maine\n",
      "\t Democrats win Maine\n",
      "Processing Maryland\n",
      "\t Democrats win Maryland\n",
      "Processing Massachusetts\n",
      "\t Democrats win Massachusetts\n",
      "Processing Michigan\n",
      "\t Democrats win Michigan\n",
      "Processing Minnesota\n",
      "\t Democrats win Minnesota\n",
      "Processing Mississippi\n",
      "\t Republicans win Mississippi\n",
      "Processing Missouri\n",
      "\t Republicans win Missouri\n",
      "Processing Montana\n",
      "\t Republicans win Montana\n",
      "Processing Nebraska\n",
      "\t Republicans win Nebraska\n",
      "Processing Nevada\n",
      "\t Democrats win Nevada\n",
      "Processing New Hampshire\n",
      "\t Democrats win New Hampshire\n",
      "Processing New Jersey\n",
      "\t Democrats win New Jersey\n",
      "Processing New Mexico\n",
      "\t Democrats win New Mexico\n",
      "Processing New York\n",
      "\t Democrats win New York\n",
      "Processing North Carolina\n",
      "\t Democrats win North Carolina\n",
      "Processing North Dakota\n",
      "\t Republicans win North Dakota\n",
      "Processing Ohio\n",
      "\t Republicans win Ohio\n",
      "Processing Oklahoma\n",
      "\t Republicans win Oklahoma\n",
      "Processing Oregon\n",
      "\t Democrats win Oregon\n",
      "Processing Pennsylvania\n",
      "\t Democrats win Pennsylvania\n",
      "Processing Rhode Island\n",
      "\t Democrats win Rhode Island\n",
      "Processing South Carolina\n",
      "\t Republicans win South Carolina\n",
      "Processing South Dakota\n",
      "\t Republicans win South Dakota\n",
      "Processing Tennessee\n",
      "\t Republicans win Tennessee\n",
      "Processing Texas\n",
      "\t Democrats win Texas\n",
      "Processing Utah\n",
      "\t Republicans win Utah\n",
      "Processing Vermont\n",
      "\t Democrats win Vermont\n",
      "Processing Virginia\n",
      "\t Democrats win Virginia\n",
      "Processing Washington\n",
      "\t Democrats win Washington\n",
      "Processing West Virginia\n",
      "\t Republicans win West Virginia\n",
      "Processing Wisconsin\n",
      "\t Democrats win Wisconsin\n",
      "Processing Wyoming\n",
      "\t Republicans win Wyoming\n"
     ]
    }
   ],
   "source": [
    "# Let's predict the 2020 election based on this re-tuned model\n",
    "\n",
    "rep_state_wins=[]\n",
    "dem_state_wins=[]\n",
    "rep_elec_coll_votes=0\n",
    "dem_elec_coll_votes=0\n",
    "\n",
    "# Hacky Alaska workaround!\n",
    "print('Processing AK')\n",
    "print('\\t Republicans win AK')\n",
    "rep_state_wins.append('AK')\n",
    "rep_elec_coll_votes += elec_college[elec_college['State']=='AK']['Votes'].values[0]\n",
    "\n",
    "\n",
    "for s in states:\n",
    "    if s!='United States':\n",
    "        if s!='District Of Columbia':\n",
    "            print('Processing '+s)\n",
    "            results=new_model.predict(scaler.transform(make_new_feature_2016_based(s).reshape(1,-1)))\n",
    "            if results[0][1]>results[0][0]:\n",
    "                rep_state_wins.append(s)\n",
    "                rep_elec_coll_votes += elec_college[elec_college['State']==get_short_name_from_long(s)]['Votes'].values[0]\n",
    "                print('\\t Republicans win '+s)\n",
    "            elif results[0][1] < results[0][0]:\n",
    "                dem_state_wins.append(s)\n",
    "                dem_elec_coll_votes += elec_college[elec_college['State']==get_short_name_from_long(s)]['Votes'].values[0]\n",
    "                print('\\t Democrats win '+s)"
   ]
  },
  {
   "cell_type": "code",
   "execution_count": 65,
   "metadata": {
    "collapsed": false
   },
   "outputs": [
    {
     "name": "stdout",
     "output_type": "stream",
     "text": [
      "Trump Electoral College Votes: 153\n",
      "Biden Electoral College Votes: 385\n",
      "(Total: 538)\n"
     ]
    }
   ],
   "source": [
    "print('Trump Electoral College Votes: '+str(rep_elec_coll_votes)+'\\nBiden Electoral College Votes: '+str(dem_elec_coll_votes))\n",
    "print('(Total: '+str(rep_elec_coll_votes+dem_elec_coll_votes)+')')"
   ]
  },
  {
   "cell_type": "code",
   "execution_count": null,
   "metadata": {
    "collapsed": true
   },
   "outputs": [],
   "source": [
    "# TODO: break out code into re-usable models\n",
    "# TODO: re-tune model based on multiple states polls\n",
    "# TODO: some graphics"
   ]
  },
  {
   "cell_type": "code",
   "execution_count": 75,
   "metadata": {
    "collapsed": false
   },
   "outputs": [
    {
     "data": {
      "text/plain": [
       "array(['Alabama', 'Alaska', 'Arizona', 'Arkansas', 'California',\n",
       "       'Colorado', 'Connecticut', 'Delaware', 'District Of Columbia',\n",
       "       'Florida', 'Georgia', 'Hawaii', 'Idaho', 'Illinois', 'Indiana',\n",
       "       'Iowa', 'Kansas', 'Kentucky', 'Louisiana', 'Maine', 'Maryland',\n",
       "       'Massachusetts', 'Michigan', 'Minnesota', 'Mississippi',\n",
       "       'Missouri', 'Montana', 'Nebraska', 'Nevada', 'New Hampshire',\n",
       "       'New Jersey', 'New Mexico', 'New York', 'North Carolina',\n",
       "       'North Dakota', 'Ohio', 'Oklahoma', 'Oregon', 'Pennsylvania',\n",
       "       'Rhode Island', 'South Carolina', 'South Dakota', 'Tennessee',\n",
       "       'Texas', 'Utah', 'Vermont', 'Virginia', 'Washington',\n",
       "       'West Virginia', 'Wisconsin', 'Wyoming'], dtype=object)"
      ]
     },
     "execution_count": 75,
     "metadata": {},
     "output_type": "execute_result"
    }
   ],
   "source": [
    "states[1:]"
   ]
  },
  {
   "cell_type": "code",
   "execution_count": 103,
   "metadata": {
    "collapsed": false
   },
   "outputs": [
    {
     "name": "stdout",
     "output_type": "stream",
     "text": [
      "Modelling Election based on latest polls from Florida\n",
      "\n",
      "Model Outputs: Dem: 50.24  and Rep: 49.95\n",
      "Current Poll: Dem: 50.19  and Rep: 49.81\n",
      "\n",
      "Trump Electoral College Votes: 203\n",
      "Biden Electoral College Votes: 335\n",
      "\n",
      "-------------------------\n",
      "\n",
      "Modelling Election based on latest polls from Wisconsin\n",
      "\n",
      "Model Outputs: Dem: 53.79  and Rep: 45.29\n",
      "Current Poll: Dem: 53.87  and Rep: 46.13\n",
      "\n",
      "Trump Electoral College Votes: 144\n",
      "Biden Electoral College Votes: 394\n",
      "\n",
      "-------------------------\n",
      "\n",
      "Modelling Election based on latest polls from Pennsylvania\n",
      "\n",
      "Model Outputs: Dem: 52.31  and Rep: 48.14\n",
      "Current Poll: Dem: 52.2  and Rep: 47.8\n",
      "\n",
      "Trump Electoral College Votes: 153\n",
      "Biden Electoral College Votes: 385\n",
      "\n",
      "-------------------------\n",
      "\n",
      "Modelling Election based on latest polls from North Carolina\n",
      "\n",
      "Model Outputs: Dem: 51.11  and Rep: 49.03\n",
      "Current Poll: Dem: 51.08  and Rep: 48.92\n",
      "\n",
      "Trump Electoral College Votes: 203\n",
      "Biden Electoral College Votes: 335\n",
      "\n",
      "-------------------------\n",
      "\n",
      "Modelling Election based on latest polls from Michigan\n",
      "\n",
      "Model Outputs: Dem: 55.03  and Rep: 44.39\n",
      "Current Poll: Dem: 55.03  and Rep: 44.97\n",
      "\n",
      "Trump Electoral College Votes: 111\n",
      "Biden Electoral College Votes: 427\n",
      "\n",
      "-------------------------\n",
      "\n",
      "\n",
      " Mean Republican Electoral College Votes: 162\n",
      "\n",
      " Mean Democrat Electoral College Votes: 375\n"
     ]
    }
   ],
   "source": [
    "#  Running all in one cell\n",
    "\n",
    "# Get a new single instance of features based on polls for a given set of states (initially just one)\n",
    "model_run_rep_ev=[]\n",
    "model_run_dem_ev=[]\n",
    "\n",
    "# test_states=['Florida']\n",
    "test_states=['Florida','Wisconsin','Pennsylvania','North Carolina','Michigan']\n",
    "for s in test_states:\n",
    "    \n",
    "    wa_poll=get_weighted_norm_poll_vote_share(get_short_name_from_long(s))\n",
    "\n",
    "    print('Modelling Election based on latest polls from '+s)\n",
    "    X_new=[]\n",
    "    Y_new=[]\n",
    "\n",
    "    x,y=make_new_feature_poll_based(s)\n",
    "    X_new.append(x)\n",
    "    Y_new.append(y)\n",
    "\n",
    "    X_new=np.array(X_new)\n",
    "    Y_new=np.array(Y_new)\n",
    "\n",
    "    X_new=scaler.transform(X_new)\n",
    "\n",
    "    # Make a new model that re-tunes the baseline model\n",
    "    new_model = tf.keras.models.load_model('271020_baseline.h5')\n",
    "\n",
    "    error= np.abs(new_model.predict(scaler.transform(make_new_feature_2016_based(s).reshape(1,-1)))[0][0] - wa_poll[0]*100)\n",
    "\n",
    "    # Let's do a maximum of 100 re-trains of the model on the single example\n",
    "    for i in range(0,100):\n",
    "        new_model.fit(\n",
    "            X_new,Y_new,\n",
    "            epochs=1,\n",
    "            verbose=0\n",
    "        )\n",
    "        error= np.abs(new_model.predict(scaler.transform(make_new_feature_2016_based(s).reshape(1,-1)))[0][0] - wa_poll[0]*100)\n",
    "    #     We've got the model close enough\n",
    "        if error<0.25:\n",
    "            break\n",
    "\n",
    "    model_results=new_model.predict(scaler.transform(make_new_feature_2016_based(s).reshape(1,-1)))\n",
    "    print('\\nModel Outputs: Dem:',np.round(model_results[0][0],2),' and Rep:',np.round(model_results[0][1],2))\n",
    "    print('Current Poll: Dem:',np.round(wa_poll[0]*100,2),' and Rep:',np.round(wa_poll[1]*100,2))\n",
    "\n",
    "    # Let's predict the 2020 election based on this re-tuned model\n",
    "\n",
    "    rep_state_wins=[]\n",
    "    dem_state_wins=[]\n",
    "    rep_elec_coll_votes=0\n",
    "    dem_elec_coll_votes=0\n",
    "\n",
    "    # Hacky Alaska workaround!\n",
    "    rep_state_wins.append('AK')\n",
    "    rep_elec_coll_votes += elec_college[elec_college['State']=='AK']['Votes'].values[0]\n",
    "\n",
    "\n",
    "    for s in states:\n",
    "        if s!='United States':\n",
    "            if s!='District Of Columbia':\n",
    "                results=new_model.predict(scaler.transform(make_new_feature_2016_based(s).reshape(1,-1)))\n",
    "                if results[0][1]>results[0][0]:\n",
    "                    rep_state_wins.append(s)\n",
    "                    rep_elec_coll_votes += elec_college[elec_college['State']==get_short_name_from_long(s)]['Votes'].values[0]\n",
    "                elif results[0][1] < results[0][0]:\n",
    "                    dem_state_wins.append(s)\n",
    "                    dem_elec_coll_votes += elec_college[elec_college['State']==get_short_name_from_long(s)]['Votes'].values[0]\n",
    "\n",
    "    print('\\nTrump Electoral College Votes: '+str(rep_elec_coll_votes)+'\\nBiden Electoral College Votes: '+str(dem_elec_coll_votes))\n",
    "    print('\\n-------------------------\\n')\n",
    "    model_run_rep_ev.append(rep_elec_coll_votes)\n",
    "    model_run_dem_ev.append(dem_elec_coll_votes)\n",
    "\n",
    "r_ev=str(int(np.mean(model_run_rep_ev)))\n",
    "d_ev=str(int(np.mean(model_run_dem_ev)))\n",
    "print('\\n Mean Republican Electoral College Votes: '+r_ev)\n",
    "print('\\n Mean Democrat Electoral College Votes: '+d_ev)"
   ]
  },
  {
   "cell_type": "code",
   "execution_count": 118,
   "metadata": {
    "collapsed": false
   },
   "outputs": [
    {
     "data": {
      "text/plain": [
       "<Figure size 432x288 with 0 Axes>"
      ]
     },
     "execution_count": 118,
     "metadata": {},
     "output_type": "execute_result"
    },
    {
     "data": {
      "image/png": "[encoded data removed]",
      "text/plain": [
       "<Figure size 720x360 with 1 Axes>"
      ]
     },
     "metadata": {
      "needs_background": "light"
     },
     "output_type": "display_data"
    },
    {
     "data": {
      "text/plain": [
       "<Figure size 432x288 with 0 Axes>"
      ]
     },
     "metadata": {},
     "output_type": "display_data"
    }
   ],
   "source": [
    "dates=['26/10/2020','27/10/2020']\n",
    "rep_ev=[206,162]\n",
    "dem_ev=[335,375]\n",
    "\n",
    "# text_date=['26/10/2020']\n",
    "\n",
    "plt.figure(figsize=(10,5))\n",
    "plt.title('US Presidential Election Forecast')\n",
    "plt.plot(dates,rep_ev,c='r')\n",
    "plt.plot(dates,dem_ev,c='b')\n",
    "plt.axhline(y=270,ls='--',c='k',alpha=0.5)\n",
    "plt.text(x=dates[0],y=250,s='Winning Margin',alpha=0.5)\n",
    "plt.text(x=dates[1],y=200,s=r_ev,alpha=0.75,c='r')\n",
    "plt.text(x=dates[1],y=325,s=d_ev,alpha=0.75,c='b')\n",
    "plt.ylabel('Electoral Votes')\n",
    "plt.figure(tight_layout=True)"
   ]
  },
  {
   "cell_type": "code",
   "execution_count": null,
   "metadata": {
    "collapsed": true
   },
   "outputs": [],
   "source": []
  }
 ],
 "metadata": {
  "kernelspec": {
   "display_name": "generic-venv",
   "language": "python",
   "name": "generic-venv"
  },
  "language_info": {
   "codemirror_mode": {
    "name": "ipython",
    "version": 3
   },
   "file_extension": ".py",
   "mimetype": "text/x-python",
   "name": "python",
   "nbconvert_exporter": "python",
   "pygments_lexer": "ipython3",
   "version": "3.7.8"
  }
 },
 "nbformat": 4,
 "nbformat_minor": 1
}
